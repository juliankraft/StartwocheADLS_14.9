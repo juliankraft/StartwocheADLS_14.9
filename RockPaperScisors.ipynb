{
 "cells": [
  {
   "cell_type": "markdown",
   "metadata": {},
   "source": [
    "### Wilkommen zu euerem ersten Python Programm\n",
    "Als erstes müsst ir oben rechts einen Kernel auswählen. Dieser Kernel ist für die Ausführung des Codes zuständig. Wählt den Kernel aus, der mit \"Python 3\" gekennzeichnet ist.\n",
    "\n",
    "Viel Spass beim Schere, Stein, Papier - Mal sehen wer die Nase vorne hat, du oder der Laptop\n",
    "Gib deine Auswahl ein, um den Spielstand zu sehen\n",
    "Die Auswahl gibst du oben im Feld ein. Die ausgabe erfolgt unten im Terminal"
   ]
  },
  {
   "cell_type": "code",
   "execution_count": null,
   "metadata": {},
   "outputs": [],
   "source": [
    "import random\n",
    "\n",
    "rock = '''\n",
    "    _______\n",
    "---'   ____)\n",
    "      (_____)\n",
    "      (_____)\n",
    "      (____)\n",
    "---.__(___)\n",
    "'''\n",
    "\n",
    "paper = '''\n",
    "    _______\n",
    "---'   ____)____\n",
    "          ______)\n",
    "          _______)\n",
    "         _______)\n",
    "---.__________)\n",
    "'''\n",
    "\n",
    "scissors = '''\n",
    "    _______\n",
    "---'   ____)____\n",
    "          ______)\n",
    "       __________)\n",
    "      (____)\n",
    "---.__(___)\n",
    "'''\n",
    "\n",
    "spieler_auswahl = int(input('Was wählst du? Für Stein 0, Für Schere 1, Für Papier 2: '))\n",
    "computer_auswahl = random.randint(0, 2)\n",
    "\n",
    "if spieler_auswahl == 0:\n",
    "    print(\"Du hast Stein gewählt:\")\n",
    "    print(rock)\n",
    "elif spieler_auswahl == 1:\n",
    "    print(\"Du hast Schere gewählt:\")\n",
    "    print(scissors)\n",
    "elif spieler_auswahl == 2:\n",
    "    print(\"Du hast Papier gewählt:\")\n",
    "    print(paper)\n",
    "else:\n",
    "    print(\"Ungültige Auswahl. Bitte wähle 0, 1 oder 2.\")\n",
    "\n",
    "print(\"Der Computer hat gewählt:\")\n",
    "if computer_auswahl == 0:\n",
    "    print(rock)\n",
    "elif computer_auswahl == 1:\n",
    "    print(scissors)\n",
    "else:\n",
    "    print(paper)\n",
    "\n",
    "if spieler_auswahl == computer_auswahl:\n",
    "    print(\"Es ist ein Unentschieden!\")\n",
    "elif (spieler_auswahl == 0 and computer_auswahl == 1) or (spieler_auswahl == 1 and computer_auswahl == 2) or (spieler_auswahl == 2 and computer_auswahl == 0):\n",
    "    print(\"Herzlichen Glückwunsch! Du hast gewonnen!\")\n",
    "else:\n",
    "    print(\"Entschuldigung, du hast verloren.\")\n"
   ]
  }
 ],
 "metadata": {
  "kernelspec": {
   "display_name": "Python 3",
   "language": "python",
   "name": "python3"
  },
  "language_info": {
   "name": "python",
   "version": "3.11.2"
  },
  "orig_nbformat": 4
 },
 "nbformat": 4,
 "nbformat_minor": 2
}
